{
 "cells": [
  {
   "cell_type": "code",
   "execution_count": 1,
   "id": "b929caf5-f63c-4f13-a980-858e37bd9a97",
   "metadata": {},
   "outputs": [],
   "source": [
    "#import libraries\n",
    "\n",
    "import pandas as pd\n",
    "import numpy as np\n",
    "import matplotlib.pyplot as plt\n",
    "import seaborn as sns\n",
    "\n",
    "import nltk\n",
    "from nltk.corpus import stopwords\n",
    "import spacy\n",
    "\n",
    "from sklearn.model_selection import train_test_split, GridSearchCV\n",
    "from sklearn.pipeline import Pipeline\n",
    "from sklearn.neighbors import KNeighborsClassifier\n",
    "from sklearn.ensemble import RandomForestClassifier\n",
    "from sklearn.linear_model import LogisticRegression\n",
    "from sklearn.metrics import ConfusionMatrixDisplay, confusion_matrix, classification_report, roc_auc_score\n",
    "from sklearn.feature_extraction.text import CountVectorizer, TfidfVectorizer\n"
   ]
  },
  {
   "cell_type": "code",
   "execution_count": 2,
   "id": "c391b032-ed1b-4ce0-adc4-83ceaf0d80e7",
   "metadata": {},
   "outputs": [
    {
     "data": {
      "text/plain": [
       "(4151, 2)"
      ]
     },
     "execution_count": 2,
     "metadata": {},
     "output_type": "execute_result"
    }
   ],
   "source": [
    "# read in data\n",
    "\n",
    "reddit = pd.read_csv('../data/reddit_small.csv')\n",
    "reddit.shape"
   ]
  },
  {
   "cell_type": "markdown",
   "id": "c214036e-22e3-405d-b9cf-16e479f8dcae",
   "metadata": {},
   "source": [
    "---\n",
    "**Train-Test Split**"
   ]
  },
  {
   "cell_type": "code",
   "execution_count": 3,
   "id": "a6aef7db-dd33-492f-bc95-3e3a27d23a5b",
   "metadata": {},
   "outputs": [
    {
     "data": {
      "text/plain": [
       "((3113, 1), (1038, 1), (3113,), (1038,))"
      ]
     },
     "execution_count": 3,
     "metadata": {},
     "output_type": "execute_result"
    }
   ],
   "source": [
    "X = reddit[['clean_text']]\n",
    "y = reddit['is_collapse']\n",
    "\n",
    "X_train, X_test, y_train, y_test = train_test_split(X, y, stratify=y, random_state=42)\n",
    "\n",
    "X_train.shape, X_test.shape, y_train.shape, y_test.shape"
   ]
  },
  {
   "cell_type": "markdown",
   "id": "3226a464-27dc-4e69-9f3e-33415a0ec020",
   "metadata": {},
   "source": [
    "---\n",
    "**Baseline Model**"
   ]
  },
  {
   "cell_type": "code",
   "execution_count": 4,
   "id": "e7de77f4-6928-4e49-8e81-bdc8f262707c",
   "metadata": {},
   "outputs": [
    {
     "data": {
      "text/plain": [
       "0    0.50578\n",
       "1    0.49422\n",
       "Name: is_collapse, dtype: float64"
      ]
     },
     "execution_count": 4,
     "metadata": {},
     "output_type": "execute_result"
    }
   ],
   "source": [
    "y_test.value_counts(normalize=True)\n",
    "# 0 - futurology\n",
    "# 1 - collapse\n",
    "# basically 50-50, but slightly more futurology posts"
   ]
  },
  {
   "cell_type": "code",
   "execution_count": 5,
   "id": "38a841c7-b715-4536-9f70-bf0f5fc59e57",
   "metadata": {},
   "outputs": [
    {
     "data": {
      "text/html": [
       "<div>\n",
       "<style scoped>\n",
       "    .dataframe tbody tr th:only-of-type {\n",
       "        vertical-align: middle;\n",
       "    }\n",
       "\n",
       "    .dataframe tbody tr th {\n",
       "        vertical-align: top;\n",
       "    }\n",
       "\n",
       "    .dataframe thead th {\n",
       "        text-align: right;\n",
       "    }\n",
       "</style>\n",
       "<table border=\"1\" class=\"dataframe\">\n",
       "  <thead>\n",
       "    <tr style=\"text-align: right;\">\n",
       "      <th></th>\n",
       "      <th>clean_text</th>\n",
       "    </tr>\n",
       "  </thead>\n",
       "  <tbody>\n",
       "    <tr>\n",
       "      <th>2479</th>\n",
       "      <td>some guys are wrong</td>\n",
       "    </tr>\n",
       "    <tr>\n",
       "      <th>2244</th>\n",
       "      <td>does ai pose a large existential threat i ve b...</td>\n",
       "    </tr>\n",
       "    <tr>\n",
       "      <th>729</th>\n",
       "      <td>the world will  think nuclear war if men conti...</td>\n",
       "    </tr>\n",
       "    <tr>\n",
       "      <th>1322</th>\n",
       "      <td>will you kill yourself when shtf me nah though...</td>\n",
       "    </tr>\n",
       "    <tr>\n",
       "      <th>4143</th>\n",
       "      <td>quantum satellites ok so i am not sure how far...</td>\n",
       "    </tr>\n",
       "    <tr>\n",
       "      <th>...</th>\n",
       "      <td>...</td>\n",
       "    </tr>\n",
       "    <tr>\n",
       "      <th>2596</th>\n",
       "      <td>will humans ever be able to create an iron man...</td>\n",
       "    </tr>\n",
       "    <tr>\n",
       "      <th>1439</th>\n",
       "      <td>growing economy economies of scale decreasing ...</td>\n",
       "    </tr>\n",
       "    <tr>\n",
       "      <th>948</th>\n",
       "      <td>when you have chopped down the last tree poiso...</td>\n",
       "    </tr>\n",
       "    <tr>\n",
       "      <th>1104</th>\n",
       "      <td>canadian housing market about to implode with ...</td>\n",
       "    </tr>\n",
       "    <tr>\n",
       "      <th>4064</th>\n",
       "      <td>what s the world going to look like years from...</td>\n",
       "    </tr>\n",
       "  </tbody>\n",
       "</table>\n",
       "<p>3113 rows × 1 columns</p>\n",
       "</div>"
      ],
      "text/plain": [
       "                                             clean_text\n",
       "2479                               some guys are wrong \n",
       "2244  does ai pose a large existential threat i ve b...\n",
       "729   the world will  think nuclear war if men conti...\n",
       "1322  will you kill yourself when shtf me nah though...\n",
       "4143  quantum satellites ok so i am not sure how far...\n",
       "...                                                 ...\n",
       "2596  will humans ever be able to create an iron man...\n",
       "1439  growing economy economies of scale decreasing ...\n",
       "948   when you have chopped down the last tree poiso...\n",
       "1104  canadian housing market about to implode with ...\n",
       "4064  what s the world going to look like years from...\n",
       "\n",
       "[3113 rows x 1 columns]"
      ]
     },
     "execution_count": 5,
     "metadata": {},
     "output_type": "execute_result"
    }
   ],
   "source": [
    "X_train"
   ]
  },
  {
   "cell_type": "code",
   "execution_count": 6,
   "id": "3889682f-af6e-4038-a321-32af7dba545f",
   "metadata": {},
   "outputs": [],
   "source": [
    "nlp = spacy.load('en_core_web_md')\n",
    "\n",
    "X_train_nlp = X_train.applymap(nlp)\n",
    "\n",
    "X_test_nlp = X_test.applymap(nlp)"
   ]
  },
  {
   "cell_type": "code",
   "execution_count": 7,
   "id": "263f32ee-e014-48fd-9ac5-35ab074ddf63",
   "metadata": {},
   "outputs": [],
   "source": [
    "def remove_stops(doc):\n",
    "    '''\n",
    "    fn that lemmatizes and removes stop words and punctuation\n",
    "    '''\n",
    "    return \" \".join([token.lemma_ for token in doc if (not token.is_stop) and (not token.is_punct)])"
   ]
  },
  {
   "cell_type": "code",
   "execution_count": 8,
   "id": "42450a04-abda-4f0d-a18a-00a4d060ea91",
   "metadata": {},
   "outputs": [
    {
     "data": {
      "text/html": [
       "<div>\n",
       "<style scoped>\n",
       "    .dataframe tbody tr th:only-of-type {\n",
       "        vertical-align: middle;\n",
       "    }\n",
       "\n",
       "    .dataframe tbody tr th {\n",
       "        vertical-align: top;\n",
       "    }\n",
       "\n",
       "    .dataframe thead th {\n",
       "        text-align: right;\n",
       "    }\n",
       "</style>\n",
       "<table border=\"1\" class=\"dataframe\">\n",
       "  <thead>\n",
       "    <tr style=\"text-align: right;\">\n",
       "      <th></th>\n",
       "      <th>clean_text</th>\n",
       "    </tr>\n",
       "  </thead>\n",
       "  <tbody>\n",
       "    <tr>\n",
       "      <th>2479</th>\n",
       "      <td>guy wrong</td>\n",
       "    </tr>\n",
       "    <tr>\n",
       "      <th>2244</th>\n",
       "      <td>ai pose large existential threat ve reading la...</td>\n",
       "    </tr>\n",
       "    <tr>\n",
       "      <th>729</th>\n",
       "      <td>world   think nuclear war man continue rule ex...</td>\n",
       "    </tr>\n",
       "    <tr>\n",
       "      <th>1322</th>\n",
       "      <td>kill shtf nah d probably handgun ready honest ...</td>\n",
       "    </tr>\n",
       "    <tr>\n",
       "      <th>4143</th>\n",
       "      <td>quantum satellite ok sure far technology away ...</td>\n",
       "    </tr>\n",
       "    <tr>\n",
       "      <th>...</th>\n",
       "      <td>...</td>\n",
       "    </tr>\n",
       "    <tr>\n",
       "      <th>2596</th>\n",
       "      <td>human able create iron man suit yes expect thi...</td>\n",
       "    </tr>\n",
       "    <tr>\n",
       "      <th>1439</th>\n",
       "      <td>grow economy economy scale decrease product di...</td>\n",
       "    </tr>\n",
       "    <tr>\n",
       "      <th>948</th>\n",
       "      <td>chop tree poison river kill animal finally rea...</td>\n",
       "    </tr>\n",
       "    <tr>\n",
       "      <th>1104</th>\n",
       "      <td>canadian housing market implode inevitable int...</td>\n",
       "    </tr>\n",
       "    <tr>\n",
       "      <th>4064</th>\n",
       "      <td>s world go look like year advanced technologic...</td>\n",
       "    </tr>\n",
       "  </tbody>\n",
       "</table>\n",
       "<p>3113 rows × 1 columns</p>\n",
       "</div>"
      ],
      "text/plain": [
       "                                             clean_text\n",
       "2479                                          guy wrong\n",
       "2244  ai pose large existential threat ve reading la...\n",
       "729   world   think nuclear war man continue rule ex...\n",
       "1322  kill shtf nah d probably handgun ready honest ...\n",
       "4143  quantum satellite ok sure far technology away ...\n",
       "...                                                 ...\n",
       "2596  human able create iron man suit yes expect thi...\n",
       "1439  grow economy economy scale decrease product di...\n",
       "948   chop tree poison river kill animal finally rea...\n",
       "1104  canadian housing market implode inevitable int...\n",
       "4064  s world go look like year advanced technologic...\n",
       "\n",
       "[3113 rows x 1 columns]"
      ]
     },
     "execution_count": 8,
     "metadata": {},
     "output_type": "execute_result"
    }
   ],
   "source": [
    "X_train_stops = X_train_nlp.applymap(remove_stops)\n",
    "X_test_stops = X_test_nlp.applymap(remove_stops)\n",
    "\n",
    "X_train_stops"
   ]
  },
  {
   "cell_type": "code",
   "execution_count": 9,
   "id": "bdd4a3c4-4f53-4c8a-a92b-62310f3e54b9",
   "metadata": {},
   "outputs": [],
   "source": [
    "#set the shape back to a series, not matrix\n",
    "X_train = X_train_stops['clean_text']\n",
    "X_test = X_test_stops['clean_text']"
   ]
  },
  {
   "cell_type": "code",
   "execution_count": 10,
   "id": "c4e4d6c7-e2eb-417f-9f17-f260aa7b186d",
   "metadata": {},
   "outputs": [
    {
     "data": {
      "text/plain": [
       "((3113,), (1038,), (3113,), (1038,))"
      ]
     },
     "execution_count": 10,
     "metadata": {},
     "output_type": "execute_result"
    }
   ],
   "source": [
    "X_train.shape, X_test.shape, y_train.shape, y_test.shape"
   ]
  },
  {
   "cell_type": "markdown",
   "id": "4c874874-4b18-4daa-a5aa-0c59589c989c",
   "metadata": {},
   "source": [
    "---\n",
    "**Create Initial Vectorizer for first iteration**"
   ]
  },
  {
   "cell_type": "code",
   "execution_count": 11,
   "id": "7f497ca7-9e15-499c-81ea-faa3be21a652",
   "metadata": {},
   "outputs": [
    {
     "data": {
      "text/plain": [
       "((3113, 18086), (1038, 18086), (3113,), (1038,))"
      ]
     },
     "execution_count": 11,
     "metadata": {},
     "output_type": "execute_result"
    }
   ],
   "source": [
    "tfidf = TfidfVectorizer()\n",
    "X_train_tfidf = pd.DataFrame(tfidf.fit_transform(X_train_stops.clean_text).todense(), \n",
    "                             columns=tfidf.get_feature_names_out())\n",
    "\n",
    "X_test_tfidf = pd.DataFrame(tfidf.transform(X_test_stops.clean_text).todense(), \n",
    "                            columns=tfidf.get_feature_names_out())\n",
    "\n",
    "X_train_tfidf.shape, X_test_tfidf.shape, y_train.shape, y_test.shape"
   ]
  },
  {
   "cell_type": "markdown",
   "id": "4defe736-115b-4e85-88e3-00f3f7660708",
   "metadata": {},
   "source": [
    "---\n",
    "**GridSearch for Best Parameters**"
   ]
  },
  {
   "cell_type": "markdown",
   "id": "b5bc0365-831f-4b1e-a238-5a35fc7a9684",
   "metadata": {},
   "source": [
    "**RandomForest Classifier**\n",
    "* Best Parameters: {'ccp_alpha': 0, 'max_depth': 100, 'max_features': 'sqrt', 'n_estimators': 100}\n",
    "* Train Score: 0.9752650176678446\n",
    "* Test Score: 0.8458574181117534"
   ]
  },
  {
   "cell_type": "code",
   "execution_count": 12,
   "id": "2c228dee-e97d-4c2d-8089-22bbe0ddfa9c",
   "metadata": {},
   "outputs": [],
   "source": [
    "#Have three basic models, now proceed with gridsearch for parameters for hypertuning\n",
    "\n",
    "params_rfc = {\n",
    "    'max_depth':[10, 25, 50, 100],\n",
    "    'ccp_alpha':[0, 1, 10],\n",
    "    'n_estimators': [10, 100],\n",
    "    'max_features':['sqrt',0.2, 0.5]\n",
    "}\n",
    "grid_rfc = GridSearchCV(RandomForestClassifier(), params_rfc, n_jobs=-1)"
   ]
  },
  {
   "cell_type": "code",
   "execution_count": 35,
   "id": "ddb9bbdd-580c-4de5-a85a-7e79ef0db494",
   "metadata": {},
   "outputs": [
    {
     "name": "stdout",
     "output_type": "stream",
     "text": [
      "CPU times: user 17.4 s, sys: 1.38 s, total: 18.8 s\n",
      "Wall time: 54min 40s\n"
     ]
    },
    {
     "data": {
      "text/plain": [
       "{'ccp_alpha': 0, 'max_depth': 100, 'max_features': 'sqrt', 'n_estimators': 100}"
      ]
     },
     "execution_count": 35,
     "metadata": {},
     "output_type": "execute_result"
    }
   ],
   "source": [
    "# %%time\n",
    "# grid_rfc.fit(X_train_tfidf, y_train)\n",
    "# grid_rfc.best_params_"
   ]
  },
  {
   "cell_type": "code",
   "execution_count": 36,
   "id": "0189a24e-8cab-4722-877d-a0662301e63b",
   "metadata": {},
   "outputs": [
    {
     "data": {
      "text/plain": [
       "(0.9752650176678446, 0.8458574181117534)"
      ]
     },
     "execution_count": 36,
     "metadata": {},
     "output_type": "execute_result"
    }
   ],
   "source": [
    "# grid_rfc.score(X_train_tfidf, y_train), grid_rfc.score(X_test_tfidf, y_test)"
   ]
  },
  {
   "cell_type": "markdown",
   "id": "5a3680e5-76ed-43e3-ad1d-9ace0ae9c538",
   "metadata": {},
   "source": [
    "**KNearestNeighbors Classifier**\n",
    "* Best Parameters: {'n_neighbors': 75, 'p': 2, 'weights': 'distance'}\n",
    "* Train Score: 0.9996787664632187\n",
    "* Test Score: 0.8342967244701349"
   ]
  },
  {
   "cell_type": "code",
   "execution_count": 13,
   "id": "afb6107b-652a-4126-bc14-f141f763d860",
   "metadata": {},
   "outputs": [],
   "source": [
    "params_knn = {\n",
    "    'n_neighbors': [25, 40, 75],\n",
    "    'weights': ['uniform', 'distance'],\n",
    "    'p': [1,2]\n",
    "}\n",
    "grid_knn = GridSearchCV(KNeighborsClassifier(), params_knn, n_jobs=-1)"
   ]
  },
  {
   "cell_type": "code",
   "execution_count": 31,
   "id": "ccf509ae-918b-46fa-95f4-5791527479a9",
   "metadata": {},
   "outputs": [
    {
     "name": "stdout",
     "output_type": "stream",
     "text": [
      "CPU times: user 1.35 s, sys: 1.15 s, total: 2.5 s\n",
      "Wall time: 8min 56s\n"
     ]
    },
    {
     "data": {
      "text/plain": [
       "{'n_neighbors': 75, 'p': 2, 'weights': 'distance'}"
      ]
     },
     "execution_count": 31,
     "metadata": {},
     "output_type": "execute_result"
    }
   ],
   "source": [
    "# %%time\n",
    "# grid_knn.fit(X_train_tfidf, y_train)\n",
    "# grid_knn.best_params_"
   ]
  },
  {
   "cell_type": "code",
   "execution_count": 32,
   "id": "fcb87db2-2691-4630-8082-daebe09b67b6",
   "metadata": {},
   "outputs": [
    {
     "data": {
      "text/plain": [
       "(0.9996787664632187, 0.8342967244701349)"
      ]
     },
     "execution_count": 32,
     "metadata": {},
     "output_type": "execute_result"
    }
   ],
   "source": [
    "# grid_knn.score(X_train_tfidf, y_train), grid_knn.score(X_test_tfidf, y_test)"
   ]
  },
  {
   "cell_type": "markdown",
   "id": "5b3098ab-e8b4-4cb0-8040-28bd686fdafb",
   "metadata": {},
   "source": [
    "**LogisticRegression (Classifier)**\n",
    "* Best Parameters: {'C': 1, 'penalty': 'l2'} (default values)\n",
    "* Train Score: 0.9524574365563765\n",
    "* Test Score: 0.8863198458574181"
   ]
  },
  {
   "cell_type": "code",
   "execution_count": 14,
   "id": "03db828c-9e99-4cd0-8c87-16acdc8bbcaf",
   "metadata": {},
   "outputs": [],
   "source": [
    "params_lr = {\n",
    "    'C': [0.1, 1, 10],\n",
    "    'penalty': ['l1','l2']}\n",
    "grid_logreg = GridSearchCV(LogisticRegression(max_iter=10_000, solver='liblinear'), params_lr, n_jobs=-1)"
   ]
  },
  {
   "cell_type": "code",
   "execution_count": 52,
   "id": "5ce5db02-0353-4191-a70e-f54a5906e610",
   "metadata": {},
   "outputs": [
    {
     "name": "stdout",
     "output_type": "stream",
     "text": [
      "CPU times: user 666 ms, sys: 465 ms, total: 1.13 s\n",
      "Wall time: 11.8 s\n"
     ]
    },
    {
     "data": {
      "text/plain": [
       "{'C': 1, 'penalty': 'l2'}"
      ]
     },
     "execution_count": 52,
     "metadata": {},
     "output_type": "execute_result"
    }
   ],
   "source": [
    "# %%time\n",
    "# grid_logreg.fit(X_train_tfidf, y_train)\n",
    "# grid_logreg.best_params_"
   ]
  },
  {
   "cell_type": "code",
   "execution_count": 53,
   "id": "4658ed4e-62b1-406a-b285-abeca3187136",
   "metadata": {},
   "outputs": [
    {
     "data": {
      "text/plain": [
       "(0.9524574365563765, 0.8863198458574181)"
      ]
     },
     "execution_count": 53,
     "metadata": {},
     "output_type": "execute_result"
    }
   ],
   "source": [
    "# grid_logreg.score(X_train_tfidf, y_train), grid_logreg.score(X_test_tfidf, y_test)"
   ]
  },
  {
   "cell_type": "markdown",
   "id": "6a146233-2737-4286-8206-0b8b0d43373e",
   "metadata": {},
   "source": [
    "---\n",
    "**Create Vectorizers and Models**\n",
    "\n",
    "create final version of each model using the best params from gridsearch"
   ]
  },
  {
   "cell_type": "code",
   "execution_count": 15,
   "id": "0a6e0295-c369-4c5e-b670-f3f70ef561b2",
   "metadata": {},
   "outputs": [],
   "source": [
    "#instantiate the vectorizers\n",
    "#we used tfidf above, but I'll run a pipeline search with cv as well to make sure\n",
    "\n",
    "cv = CountVectorizer(stop_words='english')\n",
    "tfidf = TfidfVectorizer(stop_words='english')\n",
    "\n",
    "vecs = {'cv': cv, 'tfidf': tfidf}"
   ]
  },
  {
   "cell_type": "code",
   "execution_count": 16,
   "id": "a3f1101d-3667-4616-a869-34ef4a01c2c0",
   "metadata": {},
   "outputs": [],
   "source": [
    "#instantiate the classifier models\n",
    "\n",
    "logreg = LogisticRegression(random_state=42, n_jobs=-1, C=1.0)\n",
    "knn = KNeighborsClassifier(n_jobs=-1, n_neighbors=75, p=2, weights='distance')\n",
    "rfc = RandomForestClassifier(random_state=42, n_jobs=-1, max_depth=100)\n",
    "\n",
    "models = {'logreg': logreg, 'knn': knn, 'rfc': rfc}"
   ]
  },
  {
   "cell_type": "code",
   "execution_count": 17,
   "id": "de15c844-0e58-4b70-98a4-83d54eb1e50e",
   "metadata": {},
   "outputs": [],
   "source": [
    "#create a new dataframe with the scores\n",
    "\n",
    "scores = pd.DataFrame(columns=['pipeline', 'vectorizer', 'model','train','test', 'roc'])\n",
    "scores.set_index('pipeline', inplace = True)"
   ]
  },
  {
   "cell_type": "code",
   "execution_count": 18,
   "id": "b05a5c08-cb18-4da7-ac2e-f32506489883",
   "metadata": {},
   "outputs": [],
   "source": [
    "#create pipeline function that scores each combo\n",
    "\n",
    "def score_pipeline(vec, model):\n",
    "    '''input name of vectorizer and model (as strings) and the function will create a pipeline.\n",
    "    It will then fit and score the pipeline and add it to the scores dictionary.\n",
    "    It will also create a confusion matrix'''\n",
    "    \n",
    "    pipe = Pipeline([(vec, vecs[vec]), (model, models[model])])\n",
    "    pipe_name = vec+'-'+model\n",
    "    \n",
    "    pipe.fit(X_train, y_train)\n",
    "    \n",
    "    train_score = pipe.score(X_train, y_train)\n",
    "    test_score = pipe.score(X_test, y_test)\n",
    "    \n",
    "    preds = pipe.predict(X_test)\n",
    "    \n",
    "    roc = roc_auc_score(y_test, preds)\n",
    "    \n",
    "    scores.loc[pipe_name] = [vec, model, round(train_score, 4), round(test_score, 4), round(roc, 4)]\n",
    "    \n",
    "    fig, ax = plt.subplots(figsize=(4, 4))\n",
    "    ConfusionMatrixDisplay.from_estimator(pipe, X_test, y_test,\n",
    "                                          display_labels=['Futurology','Collapse'], \n",
    "                                          cmap='Blues', colorbar=False, ax=ax)\n",
    "    ax.set_title(f'CM for {pipe_name}');"
   ]
  },
  {
   "cell_type": "markdown",
   "id": "c058fed7-435c-4a7e-82c2-33be2fb7a347",
   "metadata": {},
   "source": [
    "---\n",
    "**Evaluate all the vectorizer/model combos defined above**"
   ]
  },
  {
   "cell_type": "code",
   "execution_count": 19,
   "id": "fb4fefda-2b56-43d7-96be-a489e6910c55",
   "metadata": {},
   "outputs": [
    {
     "data": {
      "image/png": "[encoded data removed]",
      "text/plain": [
       "<Figure size 400x400 with 1 Axes>"
      ]
     },
     "metadata": {},
     "output_type": "display_data"
    }
   ],
   "source": [
    "#logreg with countvectorizer\n",
    "score_pipeline('cv', 'logreg')"
   ]
  },
  {
   "cell_type": "code",
   "execution_count": 20,
   "id": "9aa6c5e8-8f4a-4bab-87c5-aad8b20a2ab0",
   "metadata": {},
   "outputs": [
    {
     "data": {
      "image/png": "[encoded data removed]",
      "text/plain": [
       "<Figure size 400x400 with 1 Axes>"
      ]
     },
     "metadata": {},
     "output_type": "display_data"
    }
   ],
   "source": [
    "#logreg with tfidf vectorizer\n",
    "score_pipeline('tfidf', 'logreg')"
   ]
  },
  {
   "cell_type": "code",
   "execution_count": 21,
   "id": "d2598f27-d64f-455d-81bf-539a168385b9",
   "metadata": {},
   "outputs": [
    {
     "data": {
      "image/png": "[encoded data removed]",
      "text/plain": [
       "<Figure size 400x400 with 1 Axes>"
      ]
     },
     "metadata": {},
     "output_type": "display_data"
    }
   ],
   "source": [
    "#knn with countvectorizer\n",
    "score_pipeline('cv', 'knn')"
   ]
  },
  {
   "cell_type": "code",
   "execution_count": 22,
   "id": "bceb16b9-d496-4011-9ad6-ab4cf8a7ee83",
   "metadata": {},
   "outputs": [
    {
     "data": {
      "image/png": "[encoded data removed]",
      "text/plain": [
       "<Figure size 400x400 with 1 Axes>"
      ]
     },
     "metadata": {},
     "output_type": "display_data"
    }
   ],
   "source": [
    "#knn with tfidf vectorizer\n",
    "score_pipeline('tfidf', 'knn')"
   ]
  },
  {
   "cell_type": "code",
   "execution_count": 23,
   "id": "649a9278-6c6e-4dff-a1c1-4f3711c3f625",
   "metadata": {},
   "outputs": [
    {
     "data": {
      "image/png": "[encoded data removed]",
      "text/plain": [
       "<Figure size 400x400 with 1 Axes>"
      ]
     },
     "metadata": {},
     "output_type": "display_data"
    }
   ],
   "source": [
    "score_pipeline('cv', 'rfc')"
   ]
  },
  {
   "cell_type": "code",
   "execution_count": 24,
   "id": "363a559e-c0fa-44e7-8efd-eea34625a581",
   "metadata": {},
   "outputs": [
    {
     "data": {
      "image/png": "[encoded data removed]",
      "text/plain": [
       "<Figure size 400x400 with 1 Axes>"
      ]
     },
     "metadata": {},
     "output_type": "display_data"
    }
   ],
   "source": [
    "score_pipeline('tfidf', 'rfc')"
   ]
  },
  {
   "cell_type": "code",
   "execution_count": 25,
   "id": "78807b1a-6b9f-4112-86a6-42c59e2d7149",
   "metadata": {},
   "outputs": [
    {
     "data": {
      "text/html": [
       "<div>\n",
       "<style scoped>\n",
       "    .dataframe tbody tr th:only-of-type {\n",
       "        vertical-align: middle;\n",
       "    }\n",
       "\n",
       "    .dataframe tbody tr th {\n",
       "        vertical-align: top;\n",
       "    }\n",
       "\n",
       "    .dataframe thead th {\n",
       "        text-align: right;\n",
       "    }\n",
       "</style>\n",
       "<table border=\"1\" class=\"dataframe\">\n",
       "  <thead>\n",
       "    <tr style=\"text-align: right;\">\n",
       "      <th></th>\n",
       "      <th>vectorizer</th>\n",
       "      <th>model</th>\n",
       "      <th>train</th>\n",
       "      <th>test</th>\n",
       "      <th>roc</th>\n",
       "    </tr>\n",
       "    <tr>\n",
       "      <th>pipeline</th>\n",
       "      <th></th>\n",
       "      <th></th>\n",
       "      <th></th>\n",
       "      <th></th>\n",
       "      <th></th>\n",
       "    </tr>\n",
       "  </thead>\n",
       "  <tbody>\n",
       "    <tr>\n",
       "      <th>cv-logreg</th>\n",
       "      <td>cv</td>\n",
       "      <td>logreg</td>\n",
       "      <td>0.9865</td>\n",
       "      <td>0.8372</td>\n",
       "      <td>0.8366</td>\n",
       "    </tr>\n",
       "    <tr>\n",
       "      <th>tfidf-logreg</th>\n",
       "      <td>tfidf</td>\n",
       "      <td>logreg</td>\n",
       "      <td>0.9509</td>\n",
       "      <td>0.8565</td>\n",
       "      <td>0.8563</td>\n",
       "    </tr>\n",
       "    <tr>\n",
       "      <th>cv-knn</th>\n",
       "      <td>cv</td>\n",
       "      <td>knn</td>\n",
       "      <td>0.9997</td>\n",
       "      <td>0.5260</td>\n",
       "      <td>0.5206</td>\n",
       "    </tr>\n",
       "    <tr>\n",
       "      <th>tfidf-knn</th>\n",
       "      <td>tfidf</td>\n",
       "      <td>knn</td>\n",
       "      <td>0.9997</td>\n",
       "      <td>0.7842</td>\n",
       "      <td>0.7827</td>\n",
       "    </tr>\n",
       "    <tr>\n",
       "      <th>cv-rfc</th>\n",
       "      <td>cv</td>\n",
       "      <td>rfc</td>\n",
       "      <td>0.9627</td>\n",
       "      <td>0.8025</td>\n",
       "      <td>0.8020</td>\n",
       "    </tr>\n",
       "    <tr>\n",
       "      <th>tfidf-rfc</th>\n",
       "      <td>tfidf</td>\n",
       "      <td>rfc</td>\n",
       "      <td>0.9682</td>\n",
       "      <td>0.8006</td>\n",
       "      <td>0.8001</td>\n",
       "    </tr>\n",
       "  </tbody>\n",
       "</table>\n",
       "</div>"
      ],
      "text/plain": [
       "             vectorizer   model   train    test     roc\n",
       "pipeline                                               \n",
       "cv-logreg            cv  logreg  0.9865  0.8372  0.8366\n",
       "tfidf-logreg      tfidf  logreg  0.9509  0.8565  0.8563\n",
       "cv-knn               cv     knn  0.9997  0.5260  0.5206\n",
       "tfidf-knn         tfidf     knn  0.9997  0.7842  0.7827\n",
       "cv-rfc               cv     rfc  0.9627  0.8025  0.8020\n",
       "tfidf-rfc         tfidf     rfc  0.9682  0.8006  0.8001"
      ]
     },
     "execution_count": 25,
     "metadata": {},
     "output_type": "execute_result"
    }
   ],
   "source": [
    "#show all the scores\n",
    "scores"
   ]
  },
  {
   "cell_type": "markdown",
   "id": "514b9f55-b5d2-41bc-9937-b22a12f0b2d3",
   "metadata": {},
   "source": [
    "The best model here is the Logistic Regression with a TFIDF vectorizer."
   ]
  },
  {
   "cell_type": "markdown",
   "id": "ef3de439-94cd-4905-820e-60e13c9265e2",
   "metadata": {},
   "source": [
    "---\n",
    "**Best Model Analysis**\n",
    "\n",
    "The best model was the LogReg with TFIDF, so let's apply it to the full dataset and analyze it further."
   ]
  },
  {
   "cell_type": "code",
   "execution_count": 26,
   "id": "2c5df270-9d2d-4d55-a1fc-ea35aecbc2f4",
   "metadata": {},
   "outputs": [
    {
     "data": {
      "text/plain": [
       "(41514, 2)"
      ]
     },
     "execution_count": 26,
     "metadata": {},
     "output_type": "execute_result"
    }
   ],
   "source": [
    "full_df = pd.read_csv('../data/reddit.csv')\n",
    "full_df.shape"
   ]
  },
  {
   "cell_type": "code",
   "execution_count": 27,
   "id": "074b3f81-9272-45ac-99b1-526eb3a1c311",
   "metadata": {},
   "outputs": [],
   "source": [
    "X_full = full_df[['clean_text']]\n",
    "y_full = full_df['is_collapse']\n",
    "\n",
    "X_tr, X_ts, y_tr, y_ts = train_test_split(X_full, y_full, stratify=y_full, random_state=42)"
   ]
  },
  {
   "cell_type": "code",
   "execution_count": 28,
   "id": "23ecba9f-4652-49a3-a28e-321cc39c086b",
   "metadata": {},
   "outputs": [],
   "source": [
    "X_tr_nlp = X_tr.applymap(nlp)\n",
    "X_ts_nlp = X_ts.applymap(nlp)"
   ]
  },
  {
   "cell_type": "code",
   "execution_count": 29,
   "id": "0518f203-e818-4889-9448-fbd4d87366d6",
   "metadata": {},
   "outputs": [],
   "source": [
    "X_tr_stops = X_tr_nlp.applymap(remove_stops)\n",
    "X_ts_stops = X_ts_nlp.applymap(remove_stops)"
   ]
  },
  {
   "cell_type": "code",
   "execution_count": 30,
   "id": "737b198f-5b4c-49d9-97f3-6745287a9680",
   "metadata": {},
   "outputs": [
    {
     "data": {
      "text/plain": [
       "((31135,), (10379,), (31135,), (10379,))"
      ]
     },
     "execution_count": 30,
     "metadata": {},
     "output_type": "execute_result"
    }
   ],
   "source": [
    "#set the shape back to a series, not matrix\n",
    "X_tr_full = X_tr_stops['clean_text']\n",
    "X_ts_full = X_ts_stops['clean_text']\n",
    "\n",
    "X_tr_full.shape, X_ts_full.shape, y_tr.shape, y_ts.shape"
   ]
  },
  {
   "cell_type": "code",
   "execution_count": 31,
   "id": "a4458f26-3934-47d4-8c0b-b767ac7fa7fb",
   "metadata": {},
   "outputs": [
    {
     "data": {
      "text/html": [
       "<style>#sk-container-id-1 {color: black;background-color: white;}#sk-container-id-1 pre{padding: 0;}#sk-container-id-1 div.sk-toggleable {background-color: white;}#sk-container-id-1 label.sk-toggleable__label {cursor: pointer;display: block;width: 100%;margin-bottom: 0;padding: 0.3em;box-sizing: border-box;text-align: center;}#sk-container-id-1 label.sk-toggleable__label-arrow:before {content: \"▸\";float: left;margin-right: 0.25em;color: #696969;}#sk-container-id-1 label.sk-toggleable__label-arrow:hover:before {color: black;}#sk-container-id-1 div.sk-estimator:hover label.sk-toggleable__label-arrow:before {color: black;}#sk-container-id-1 div.sk-toggleable__content {max-height: 0;max-width: 0;overflow: hidden;text-align: left;background-color: #f0f8ff;}#sk-container-id-1 div.sk-toggleable__content pre {margin: 0.2em;color: black;border-radius: 0.25em;background-color: #f0f8ff;}#sk-container-id-1 input.sk-toggleable__control:checked~div.sk-toggleable__content {max-height: 200px;max-width: 100%;overflow: auto;}#sk-container-id-1 input.sk-toggleable__control:checked~label.sk-toggleable__label-arrow:before {content: \"▾\";}#sk-container-id-1 div.sk-estimator input.sk-toggleable__control:checked~label.sk-toggleable__label {background-color: #d4ebff;}#sk-container-id-1 div.sk-label input.sk-toggleable__control:checked~label.sk-toggleable__label {background-color: #d4ebff;}#sk-container-id-1 input.sk-hidden--visually {border: 0;clip: rect(1px 1px 1px 1px);clip: rect(1px, 1px, 1px, 1px);height: 1px;margin: -1px;overflow: hidden;padding: 0;position: absolute;width: 1px;}#sk-container-id-1 div.sk-estimator {font-family: monospace;background-color: #f0f8ff;border: 1px dotted black;border-radius: 0.25em;box-sizing: border-box;margin-bottom: 0.5em;}#sk-container-id-1 div.sk-estimator:hover {background-color: #d4ebff;}#sk-container-id-1 div.sk-parallel-item::after {content: \"\";width: 100%;border-bottom: 1px solid gray;flex-grow: 1;}#sk-container-id-1 div.sk-label:hover label.sk-toggleable__label {background-color: #d4ebff;}#sk-container-id-1 div.sk-serial::before {content: \"\";position: absolute;border-left: 1px solid gray;box-sizing: border-box;top: 0;bottom: 0;left: 50%;z-index: 0;}#sk-container-id-1 div.sk-serial {display: flex;flex-direction: column;align-items: center;background-color: white;padding-right: 0.2em;padding-left: 0.2em;position: relative;}#sk-container-id-1 div.sk-item {position: relative;z-index: 1;}#sk-container-id-1 div.sk-parallel {display: flex;align-items: stretch;justify-content: center;background-color: white;position: relative;}#sk-container-id-1 div.sk-item::before, #sk-container-id-1 div.sk-parallel-item::before {content: \"\";position: absolute;border-left: 1px solid gray;box-sizing: border-box;top: 0;bottom: 0;left: 50%;z-index: -1;}#sk-container-id-1 div.sk-parallel-item {display: flex;flex-direction: column;z-index: 1;position: relative;background-color: white;}#sk-container-id-1 div.sk-parallel-item:first-child::after {align-self: flex-end;width: 50%;}#sk-container-id-1 div.sk-parallel-item:last-child::after {align-self: flex-start;width: 50%;}#sk-container-id-1 div.sk-parallel-item:only-child::after {width: 0;}#sk-container-id-1 div.sk-dashed-wrapped {border: 1px dashed gray;margin: 0 0.4em 0.5em 0.4em;box-sizing: border-box;padding-bottom: 0.4em;background-color: white;}#sk-container-id-1 div.sk-label label {font-family: monospace;font-weight: bold;display: inline-block;line-height: 1.2em;}#sk-container-id-1 div.sk-label-container {text-align: center;}#sk-container-id-1 div.sk-container {/* jupyter's `normalize.less` sets `[hidden] { display: none; }` but bootstrap.min.css set `[hidden] { display: none !important; }` so we also need the `!important` here to be able to override the default hidden behavior on the sphinx rendered scikit-learn.org. See: https://github.com/scikit-learn/scikit-learn/issues/21755 */display: inline-block !important;position: relative;}#sk-container-id-1 div.sk-text-repr-fallback {display: none;}</style><div id=\"sk-container-id-1\" class=\"sk-top-container\"><div class=\"sk-text-repr-fallback\"><pre>Pipeline(steps=[(&#x27;tfidf&#x27;, TfidfVectorizer(stop_words=&#x27;english&#x27;)),\n",
       "                (&#x27;logreg&#x27;, LogisticRegression(n_jobs=-1, random_state=42))])</pre><b>In a Jupyter environment, please rerun this cell to show the HTML representation or trust the notebook. <br />On GitHub, the HTML representation is unable to render, please try loading this page with nbviewer.org.</b></div><div class=\"sk-container\" hidden><div class=\"sk-item sk-dashed-wrapped\"><div class=\"sk-label-container\"><div class=\"sk-label sk-toggleable\"><input class=\"sk-toggleable__control sk-hidden--visually\" id=\"sk-estimator-id-1\" type=\"checkbox\" ><label for=\"sk-estimator-id-1\" class=\"sk-toggleable__label sk-toggleable__label-arrow\">Pipeline</label><div class=\"sk-toggleable__content\"><pre>Pipeline(steps=[(&#x27;tfidf&#x27;, TfidfVectorizer(stop_words=&#x27;english&#x27;)),\n",
       "                (&#x27;logreg&#x27;, LogisticRegression(n_jobs=-1, random_state=42))])</pre></div></div></div><div class=\"sk-serial\"><div class=\"sk-item\"><div class=\"sk-estimator sk-toggleable\"><input class=\"sk-toggleable__control sk-hidden--visually\" id=\"sk-estimator-id-2\" type=\"checkbox\" ><label for=\"sk-estimator-id-2\" class=\"sk-toggleable__label sk-toggleable__label-arrow\">TfidfVectorizer</label><div class=\"sk-toggleable__content\"><pre>TfidfVectorizer(stop_words=&#x27;english&#x27;)</pre></div></div></div><div class=\"sk-item\"><div class=\"sk-estimator sk-toggleable\"><input class=\"sk-toggleable__control sk-hidden--visually\" id=\"sk-estimator-id-3\" type=\"checkbox\" ><label for=\"sk-estimator-id-3\" class=\"sk-toggleable__label sk-toggleable__label-arrow\">LogisticRegression</label><div class=\"sk-toggleable__content\"><pre>LogisticRegression(n_jobs=-1, random_state=42)</pre></div></div></div></div></div></div></div>"
      ],
      "text/plain": [
       "Pipeline(steps=[('tfidf', TfidfVectorizer(stop_words='english')),\n",
       "                ('logreg', LogisticRegression(n_jobs=-1, random_state=42))])"
      ]
     },
     "execution_count": 31,
     "metadata": {},
     "output_type": "execute_result"
    }
   ],
   "source": [
    "pipe = Pipeline([('tfidf', tfidf), ('logreg', logreg)])\n",
    "pipe.fit(X_tr_full, y_tr)"
   ]
  },
  {
   "cell_type": "code",
   "execution_count": 32,
   "id": "31d2dfcc-9e56-4107-a97e-e884b68d51e4",
   "metadata": {},
   "outputs": [],
   "source": [
    "train_score = pipe.score(X_tr_full, y_tr)\n",
    "test_score = pipe.score(X_ts_full, y_ts)\n",
    "    \n",
    "preds = pipe.predict(X_ts_full)\n",
    "pred_probs = pipe.predict_proba(X_ts_full)\n",
    "    \n",
    "roc = roc_auc_score(y_ts, preds)"
   ]
  },
  {
   "cell_type": "code",
   "execution_count": 33,
   "id": "a8654133-c93e-4220-9709-6a909ea5011c",
   "metadata": {},
   "outputs": [
    {
     "name": "stdout",
     "output_type": "stream",
     "text": [
      "Training Score: 0.9188\n",
      "Testing Score: 0.8837\n",
      "ROC: 0.8837\n",
      "\n",
      "Classification Report:\n",
      "              precision    recall  f1-score   support\n",
      "\n",
      "           0       0.89      0.88      0.88      5248\n",
      "           1       0.88      0.89      0.88      5131\n",
      "\n",
      "    accuracy                           0.88     10379\n",
      "   macro avg       0.88      0.88      0.88     10379\n",
      "weighted avg       0.88      0.88      0.88     10379\n",
      "\n"
     ]
    },
    {
     "data": {
      "image/png": "[encoded data removed]",
      "text/plain": [
       "<Figure size 600x600 with 2 Axes>"
      ]
     },
     "metadata": {},
     "output_type": "display_data"
    }
   ],
   "source": [
    "print(f'Training Score: {round(train_score,4)}\\nTesting Score: {round(test_score,4)}\\nROC: {round(roc,4)}')\n",
    "print('\\nClassification Report:')\n",
    "print(classification_report(y_ts, preds))\n",
    "    \n",
    "fig, ax = plt.subplots(figsize=(6, 6))\n",
    "ConfusionMatrixDisplay.from_estimator(pipe, X_ts_full, y_ts,\n",
    "                                      display_labels=['Futurology','Collapse'], \n",
    "                                      cmap='Oranges', colorbar=True, ax=ax)\n",
    "ax.set_title('Confusion Matrix for Tfidf-LogReg pipeline');"
   ]
  },
  {
   "cell_type": "markdown",
   "id": "2f0c3d51-a8fd-43e9-b4fd-8e69e1d66603",
   "metadata": {},
   "source": [
    "The model testing score and ROC actually improved when running it on the full dataset, which makes sense - we now have 10x the amount of data to train the model.  Overfitting was greatly reduced, because our dimensionality is better as well - we have more observations than features now.  "
   ]
  },
  {
   "cell_type": "markdown",
   "id": "52237f75-202a-4ffe-8d9f-6d703aa2a3fd",
   "metadata": {},
   "source": [
    "---\n",
    "**Insights**"
   ]
  },
  {
   "cell_type": "markdown",
   "id": "819e3998-ce0f-49be-ba24-223e8ba79ee5",
   "metadata": {},
   "source": [
    "**Most Important Features**"
   ]
  },
  {
   "cell_type": "code",
   "execution_count": 34,
   "id": "5e91e6c0-0944-43f4-860b-cc2306415cbc",
   "metadata": {},
   "outputs": [
    {
     "data": {
      "text/html": [
       "<div>\n",
       "<style scoped>\n",
       "    .dataframe tbody tr th:only-of-type {\n",
       "        vertical-align: middle;\n",
       "    }\n",
       "\n",
       "    .dataframe tbody tr th {\n",
       "        vertical-align: top;\n",
       "    }\n",
       "\n",
       "    .dataframe thead th {\n",
       "        text-align: right;\n",
       "    }\n",
       "</style>\n",
       "<table border=\"1\" class=\"dataframe\">\n",
       "  <thead>\n",
       "    <tr style=\"text-align: right;\">\n",
       "      <th></th>\n",
       "      <th>feature_name</th>\n",
       "      <th>coef</th>\n",
       "    </tr>\n",
       "  </thead>\n",
       "  <tbody>\n",
       "    <tr>\n",
       "      <th>8116</th>\n",
       "      <td>climate</td>\n",
       "      <td>5.072274</td>\n",
       "    </tr>\n",
       "    <tr>\n",
       "      <th>42114</th>\n",
       "      <td>shit</td>\n",
       "      <td>4.145100</td>\n",
       "    </tr>\n",
       "    <tr>\n",
       "      <th>36448</th>\n",
       "      <td>prepare</td>\n",
       "      <td>3.846341</td>\n",
       "    </tr>\n",
       "    <tr>\n",
       "      <th>45469</th>\n",
       "      <td>survive</td>\n",
       "      <td>3.604197</td>\n",
       "    </tr>\n",
       "    <tr>\n",
       "      <th>45462</th>\n",
       "      <td>survival</td>\n",
       "      <td>3.579609</td>\n",
       "    </tr>\n",
       "    <tr>\n",
       "      <th>...</th>\n",
       "      <td>...</td>\n",
       "      <td>...</td>\n",
       "    </tr>\n",
       "    <tr>\n",
       "      <th>48505</th>\n",
       "      <td>ubi</td>\n",
       "      <td>-4.480272</td>\n",
       "    </tr>\n",
       "    <tr>\n",
       "      <th>3268</th>\n",
       "      <td>automation</td>\n",
       "      <td>-5.565172</td>\n",
       "    </tr>\n",
       "    <tr>\n",
       "      <th>46212</th>\n",
       "      <td>technology</td>\n",
       "      <td>-6.881217</td>\n",
       "    </tr>\n",
       "    <tr>\n",
       "      <th>985</th>\n",
       "      <td>ai</td>\n",
       "      <td>-6.885504</td>\n",
       "    </tr>\n",
       "    <tr>\n",
       "      <th>18312</th>\n",
       "      <td>future</td>\n",
       "      <td>-9.754387</td>\n",
       "    </tr>\n",
       "  </tbody>\n",
       "</table>\n",
       "<p>53064 rows × 2 columns</p>\n",
       "</div>"
      ],
      "text/plain": [
       "      feature_name      coef\n",
       "8116       climate  5.072274\n",
       "42114         shit  4.145100\n",
       "36448      prepare  3.846341\n",
       "45469      survive  3.604197\n",
       "45462     survival  3.579609\n",
       "...            ...       ...\n",
       "48505          ubi -4.480272\n",
       "3268    automation -5.565172\n",
       "46212   technology -6.881217\n",
       "985             ai -6.885504\n",
       "18312       future -9.754387\n",
       "\n",
       "[53064 rows x 2 columns]"
      ]
     },
     "execution_count": 34,
     "metadata": {},
     "output_type": "execute_result"
    }
   ],
   "source": [
    "# most important features\n",
    "coefs = pd.DataFrame(columns=['feature_name', 'coef'])\n",
    "coefs['coef'] = list(pipe.steps[1][1].coef_[0,:])\n",
    "coefs['feature_name'] = list(pipe.steps[0][1].get_feature_names_out())\n",
    "\n",
    "coefs = coefs.sort_values('coef', ascending=False)\n",
    "coefs"
   ]
  },
  {
   "cell_type": "code",
   "execution_count": 35,
   "id": "6b7f7724-04bf-4784-b580-467539fc5b7c",
   "metadata": {},
   "outputs": [],
   "source": [
    "top_collapse = coefs.head(15)\n",
    "top_futurology = coefs.tail(15)[::-1]"
   ]
  },
  {
   "cell_type": "code",
   "execution_count": 36,
   "id": "13f1805f-9345-47bf-acf6-8fdbe181f673",
   "metadata": {},
   "outputs": [
    {
     "data": {
      "text/html": [
       "<div>\n",
       "<style scoped>\n",
       "    .dataframe tbody tr th:only-of-type {\n",
       "        vertical-align: middle;\n",
       "    }\n",
       "\n",
       "    .dataframe tbody tr th {\n",
       "        vertical-align: top;\n",
       "    }\n",
       "\n",
       "    .dataframe thead th {\n",
       "        text-align: right;\n",
       "    }\n",
       "</style>\n",
       "<table border=\"1\" class=\"dataframe\">\n",
       "  <thead>\n",
       "    <tr style=\"text-align: right;\">\n",
       "      <th></th>\n",
       "      <th>feature_name</th>\n",
       "      <th>coef</th>\n",
       "    </tr>\n",
       "  </thead>\n",
       "  <tbody>\n",
       "    <tr>\n",
       "      <th>26076</th>\n",
       "      <td>ladakh</td>\n",
       "      <td>2.942983e-07</td>\n",
       "    </tr>\n",
       "    <tr>\n",
       "      <th>12144</th>\n",
       "      <td>dfat</td>\n",
       "      <td>2.942983e-07</td>\n",
       "    </tr>\n",
       "    <tr>\n",
       "      <th>10160</th>\n",
       "      <td>crematorium</td>\n",
       "      <td>2.942983e-07</td>\n",
       "    </tr>\n",
       "    <tr>\n",
       "      <th>33860</th>\n",
       "      <td>paddlefish</td>\n",
       "      <td>2.942983e-07</td>\n",
       "    </tr>\n",
       "    <tr>\n",
       "      <th>42952</th>\n",
       "      <td>slums</td>\n",
       "      <td>2.942983e-07</td>\n",
       "    </tr>\n",
       "    <tr>\n",
       "      <th>27885</th>\n",
       "      <td>mainichi</td>\n",
       "      <td>2.942983e-07</td>\n",
       "    </tr>\n",
       "    <tr>\n",
       "      <th>18535</th>\n",
       "      <td>gansu</td>\n",
       "      <td>2.942983e-07</td>\n",
       "    </tr>\n",
       "    <tr>\n",
       "      <th>24212</th>\n",
       "      <td>ioc</td>\n",
       "      <td>2.942983e-07</td>\n",
       "    </tr>\n",
       "    <tr>\n",
       "      <th>27172</th>\n",
       "      <td>lmpd</td>\n",
       "      <td>2.942983e-07</td>\n",
       "    </tr>\n",
       "    <tr>\n",
       "      <th>18376</th>\n",
       "      <td>fwpd</td>\n",
       "      <td>2.942983e-07</td>\n",
       "    </tr>\n",
       "    <tr>\n",
       "      <th>42319</th>\n",
       "      <td>shuts</td>\n",
       "      <td>2.942983e-07</td>\n",
       "    </tr>\n",
       "  </tbody>\n",
       "</table>\n",
       "</div>"
      ],
      "text/plain": [
       "      feature_name          coef\n",
       "26076       ladakh  2.942983e-07\n",
       "12144         dfat  2.942983e-07\n",
       "10160  crematorium  2.942983e-07\n",
       "33860   paddlefish  2.942983e-07\n",
       "42952        slums  2.942983e-07\n",
       "27885     mainichi  2.942983e-07\n",
       "18535        gansu  2.942983e-07\n",
       "24212          ioc  2.942983e-07\n",
       "27172         lmpd  2.942983e-07\n",
       "18376         fwpd  2.942983e-07\n",
       "42319        shuts  2.942983e-07"
      ]
     },
     "execution_count": 36,
     "metadata": {},
     "output_type": "execute_result"
    }
   ],
   "source": [
    "#these are the 'least important' words: coef=0.0\n",
    "#however, there's not much insight to gain from this\n",
    "#they are typos/cleaning errors or random terms that probably had low frequency\n",
    "\n",
    "#it would be more interesting to find a way to pull the ngrams that are frequent in both subreddits\n",
    "#but still have low feature importance\n",
    "coefs[coefs['coef'].round(6)==0.0]"
   ]
  },
  {
   "cell_type": "code",
   "execution_count": 37,
   "id": "dafb5c61-c0a2-42d2-81a7-49849d57c161",
   "metadata": {},
   "outputs": [
    {
     "data": {
      "image/png": "[encoded data removed]",
      "text/plain": [
       "<Figure size 700x700 with 1 Axes>"
      ]
     },
     "metadata": {},
     "output_type": "display_data"
    }
   ],
   "source": [
    "plt.figure(figsize=(7,7))\n",
    "sns.barplot(data=top_collapse, x=abs(top_collapse['coef']), y=top_collapse['feature_name'], \n",
    "            palette='Oranges_r').set(title='15 Most Important Tokens for r/collapse', ylabel='');"
   ]
  },
  {
   "cell_type": "code",
   "execution_count": 38,
   "id": "9d9f95c7-3419-47a8-9987-a3316f78323a",
   "metadata": {},
   "outputs": [
    {
     "data": {
      "image/png": "[encoded data removed]",
      "text/plain": [
       "<Figure size 700x700 with 1 Axes>"
      ]
     },
     "metadata": {},
     "output_type": "display_data"
    }
   ],
   "source": [
    "plt.figure(figsize=(7,7))\n",
    "sns.barplot(data=top_futurology, x=abs(top_futurology['coef']), y=top_futurology['feature_name'], \n",
    "            palette='Greens_r').set(title='15 Most Important Tokens for r/futurology', ylabel='');"
   ]
  },
  {
   "cell_type": "markdown",
   "id": "b350208b-9f4d-41cb-9218-a6636dd05042",
   "metadata": {},
   "source": [
    "**Best Predictions and Misclassifications**"
   ]
  },
  {
   "cell_type": "code",
   "execution_count": 39,
   "id": "7d19f190-9e5b-4268-9381-ff192b6126eb",
   "metadata": {},
   "outputs": [
    {
     "data": {
      "text/html": [
       "<div>\n",
       "<style scoped>\n",
       "    .dataframe tbody tr th:only-of-type {\n",
       "        vertical-align: middle;\n",
       "    }\n",
       "\n",
       "    .dataframe tbody tr th {\n",
       "        vertical-align: top;\n",
       "    }\n",
       "\n",
       "    .dataframe thead th {\n",
       "        text-align: right;\n",
       "    }\n",
       "</style>\n",
       "<table border=\"1\" class=\"dataframe\">\n",
       "  <thead>\n",
       "    <tr style=\"text-align: right;\">\n",
       "      <th></th>\n",
       "      <th>is_collapse</th>\n",
       "      <th>predictions</th>\n",
       "      <th>prob_is_collapse</th>\n",
       "      <th>clean_text</th>\n",
       "    </tr>\n",
       "  </thead>\n",
       "  <tbody>\n",
       "    <tr>\n",
       "      <th>8676</th>\n",
       "      <td>1</td>\n",
       "      <td>1</td>\n",
       "      <td>0.999966</td>\n",
       "      <td>epic porn timeline to source the prophetic wor...</td>\n",
       "    </tr>\n",
       "    <tr>\n",
       "      <th>9115</th>\n",
       "      <td>1</td>\n",
       "      <td>1</td>\n",
       "      <td>0.999950</td>\n",
       "      <td>a brief timeline for  w full citations hello a...</td>\n",
       "    </tr>\n",
       "    <tr>\n",
       "      <th>12</th>\n",
       "      <td>1</td>\n",
       "      <td>1</td>\n",
       "      <td>0.999925</td>\n",
       "      <td>last week in  march april economic tensions ri...</td>\n",
       "    </tr>\n",
       "    <tr>\n",
       "      <th>7457</th>\n",
       "      <td>1</td>\n",
       "      <td>1</td>\n",
       "      <td>0.999699</td>\n",
       "      <td>the american election i predict a major  of am...</td>\n",
       "    </tr>\n",
       "    <tr>\n",
       "      <th>15918</th>\n",
       "      <td>1</td>\n",
       "      <td>1</td>\n",
       "      <td>0.999691</td>\n",
       "      <td>it s time to start making preparations for you...</td>\n",
       "    </tr>\n",
       "    <tr>\n",
       "      <th>...</th>\n",
       "      <td>...</td>\n",
       "      <td>...</td>\n",
       "      <td>...</td>\n",
       "      <td>...</td>\n",
       "    </tr>\n",
       "    <tr>\n",
       "      <th>37225</th>\n",
       "      <td>0</td>\n",
       "      <td>0</td>\n",
       "      <td>0.000099</td>\n",
       "      <td>in the future there will be robots</td>\n",
       "    </tr>\n",
       "    <tr>\n",
       "      <th>26753</th>\n",
       "      <td>0</td>\n",
       "      <td>0</td>\n",
       "      <td>0.000031</td>\n",
       "      <td>what is the future</td>\n",
       "    </tr>\n",
       "    <tr>\n",
       "      <th>23026</th>\n",
       "      <td>0</td>\n",
       "      <td>0</td>\n",
       "      <td>0.000031</td>\n",
       "      <td>future future future future future future</td>\n",
       "    </tr>\n",
       "    <tr>\n",
       "      <th>29291</th>\n",
       "      <td>0</td>\n",
       "      <td>0</td>\n",
       "      <td>0.000031</td>\n",
       "      <td>back to the future</td>\n",
       "    </tr>\n",
       "    <tr>\n",
       "      <th>36086</th>\n",
       "      <td>0</td>\n",
       "      <td>0</td>\n",
       "      <td>0.000031</td>\n",
       "      <td>the future is the here and now only more so</td>\n",
       "    </tr>\n",
       "  </tbody>\n",
       "</table>\n",
       "<p>10379 rows × 4 columns</p>\n",
       "</div>"
      ],
      "text/plain": [
       "       is_collapse  predictions  prob_is_collapse  \\\n",
       "8676             1            1          0.999966   \n",
       "9115             1            1          0.999950   \n",
       "12               1            1          0.999925   \n",
       "7457             1            1          0.999699   \n",
       "15918            1            1          0.999691   \n",
       "...            ...          ...               ...   \n",
       "37225            0            0          0.000099   \n",
       "26753            0            0          0.000031   \n",
       "23026            0            0          0.000031   \n",
       "29291            0            0          0.000031   \n",
       "36086            0            0          0.000031   \n",
       "\n",
       "                                              clean_text  \n",
       "8676   epic porn timeline to source the prophetic wor...  \n",
       "9115   a brief timeline for  w full citations hello a...  \n",
       "12     last week in  march april economic tensions ri...  \n",
       "7457   the american election i predict a major  of am...  \n",
       "15918  it s time to start making preparations for you...  \n",
       "...                                                  ...  \n",
       "37225                in the future there will be robots   \n",
       "26753                                what is the future   \n",
       "23026          future future future future future future  \n",
       "29291                                back to the future   \n",
       "36086       the future is the here and now only more so   \n",
       "\n",
       "[10379 rows x 4 columns]"
      ]
     },
     "execution_count": 39,
     "metadata": {},
     "output_type": "execute_result"
    }
   ],
   "source": [
    "# predicted probabilities\n",
    "pred_df = y_ts.to_frame()\n",
    "\n",
    "pred_df['predictions'] = preds\n",
    "pred_collapse = pred_probs[:,1]\n",
    "pred_df['prob_is_collapse'] = pred_collapse\n",
    "pred_df['clean_text'] = X_ts['clean_text']\n",
    "\n",
    "pred_df = pred_df.sort_values('prob_is_collapse', ascending=False)\n",
    "\n",
    "pred_df"
   ]
  },
  {
   "cell_type": "code",
   "execution_count": 40,
   "id": "b092ae3b-f839-4e62-bf92-2c71138e4648",
   "metadata": {},
   "outputs": [
    {
     "data": {
      "text/html": [
       "<div>\n",
       "<style scoped>\n",
       "    .dataframe tbody tr th:only-of-type {\n",
       "        vertical-align: middle;\n",
       "    }\n",
       "\n",
       "    .dataframe tbody tr th {\n",
       "        vertical-align: top;\n",
       "    }\n",
       "\n",
       "    .dataframe thead th {\n",
       "        text-align: right;\n",
       "    }\n",
       "</style>\n",
       "<table border=\"1\" class=\"dataframe\">\n",
       "  <thead>\n",
       "    <tr style=\"text-align: right;\">\n",
       "      <th></th>\n",
       "      <th>is_collapse</th>\n",
       "      <th>predictions</th>\n",
       "      <th>prob_is_collapse</th>\n",
       "      <th>clean_text</th>\n",
       "    </tr>\n",
       "  </thead>\n",
       "  <tbody>\n",
       "    <tr>\n",
       "      <th>8676</th>\n",
       "      <td>1</td>\n",
       "      <td>1</td>\n",
       "      <td>0.999966</td>\n",
       "      <td>epic porn timeline to source the prophetic wor...</td>\n",
       "    </tr>\n",
       "    <tr>\n",
       "      <th>9115</th>\n",
       "      <td>1</td>\n",
       "      <td>1</td>\n",
       "      <td>0.999950</td>\n",
       "      <td>a brief timeline for  w full citations hello a...</td>\n",
       "    </tr>\n",
       "    <tr>\n",
       "      <th>12</th>\n",
       "      <td>1</td>\n",
       "      <td>1</td>\n",
       "      <td>0.999925</td>\n",
       "      <td>last week in  march april economic tensions ri...</td>\n",
       "    </tr>\n",
       "    <tr>\n",
       "      <th>7457</th>\n",
       "      <td>1</td>\n",
       "      <td>1</td>\n",
       "      <td>0.999699</td>\n",
       "      <td>the american election i predict a major  of am...</td>\n",
       "    </tr>\n",
       "    <tr>\n",
       "      <th>15918</th>\n",
       "      <td>1</td>\n",
       "      <td>1</td>\n",
       "      <td>0.999691</td>\n",
       "      <td>it s time to start making preparations for you...</td>\n",
       "    </tr>\n",
       "    <tr>\n",
       "      <th>9783</th>\n",
       "      <td>1</td>\n",
       "      <td>1</td>\n",
       "      <td>0.999639</td>\n",
       "      <td>are the feedback loops as bad as people say th...</td>\n",
       "    </tr>\n",
       "    <tr>\n",
       "      <th>16877</th>\n",
       "      <td>1</td>\n",
       "      <td>1</td>\n",
       "      <td>0.999610</td>\n",
       "      <td>reasons to be calm i ve been close to suicidal...</td>\n",
       "    </tr>\n",
       "    <tr>\n",
       "      <th>10822</th>\n",
       "      <td>1</td>\n",
       "      <td>1</td>\n",
       "      <td>0.999581</td>\n",
       "      <td>the  already arrived hiding behind the mask of...</td>\n",
       "    </tr>\n",
       "    <tr>\n",
       "      <th>6659</th>\n",
       "      <td>1</td>\n",
       "      <td>1</td>\n",
       "      <td>0.999538</td>\n",
       "      <td>signs of  q hi r  i have been working on an on...</td>\n",
       "    </tr>\n",
       "    <tr>\n",
       "      <th>9799</th>\n",
       "      <td>1</td>\n",
       "      <td>1</td>\n",
       "      <td>0.999518</td>\n",
       "      <td>copypasta of a pretty good guess on a negative...</td>\n",
       "    </tr>\n",
       "  </tbody>\n",
       "</table>\n",
       "</div>"
      ],
      "text/plain": [
       "       is_collapse  predictions  prob_is_collapse  \\\n",
       "8676             1            1          0.999966   \n",
       "9115             1            1          0.999950   \n",
       "12               1            1          0.999925   \n",
       "7457             1            1          0.999699   \n",
       "15918            1            1          0.999691   \n",
       "9783             1            1          0.999639   \n",
       "16877            1            1          0.999610   \n",
       "10822            1            1          0.999581   \n",
       "6659             1            1          0.999538   \n",
       "9799             1            1          0.999518   \n",
       "\n",
       "                                              clean_text  \n",
       "8676   epic porn timeline to source the prophetic wor...  \n",
       "9115   a brief timeline for  w full citations hello a...  \n",
       "12     last week in  march april economic tensions ri...  \n",
       "7457   the american election i predict a major  of am...  \n",
       "15918  it s time to start making preparations for you...  \n",
       "9783   are the feedback loops as bad as people say th...  \n",
       "16877  reasons to be calm i ve been close to suicidal...  \n",
       "10822  the  already arrived hiding behind the mask of...  \n",
       "6659   signs of  q hi r  i have been working on an on...  \n",
       "9799   copypasta of a pretty good guess on a negative...  "
      ]
     },
     "execution_count": 40,
     "metadata": {},
     "output_type": "execute_result"
    }
   ],
   "source": [
    "#posts with the highest probability of being r/collapse\n",
    "#all of them are correctly predicted\n",
    "pred_df.head(10)"
   ]
  },
  {
   "cell_type": "code",
   "execution_count": 41,
   "id": "02020e6f-1484-4736-9a74-2f7c1f9e3cbc",
   "metadata": {},
   "outputs": [
    {
     "data": {
      "text/plain": [
       "'epic porn timeline to source the prophetic words of the german climatologist hans joachim schellnhuber in were smudged on the whiteboard climate change is now reaching the endgame where very soon humanity must choose between taking unprecedented action or accepting that it has been left too late and bear the consequences fifty years on those consequences were etched all over earth s surface as a small group of historians and scientists gathered in an annex of greenland s nuuk art museum kilometers south of the arctic circle to understand the course of events since those words were written living in a hotter world was all about food and water security and dislocation and war syria should have been a warning a preview of  in the world s top nine importers of wheat per capita had been middle eastern and north african nations when extreme fires in russia and a once in a century winter drought in china devastated wheat crops the global price for the grain and bread prices in the middle east'"
      ]
     },
     "execution_count": 41,
     "metadata": {},
     "output_type": "execute_result"
    }
   ],
   "source": [
    "#highest correlation to r/collapse\n",
    "pred_df.loc[8676, 'clean_text'][:1000]\n",
    "\n",
    "#only showing first 1000 characters for the sake of brevity\n",
    "#this post has a lot of r/collapse characteristics: 'climate change', 'too late', \n",
    "#'security', 'dislocation' and plenty of other similar terms\n",
    "#the post is a classic example of the doomsday mindset of r/collapse\n",
    "#it's also very long (20_000 characters), which we saw is more common in r/collapse as well"
   ]
  },
  {
   "cell_type": "markdown",
   "id": "7150b4f6-0a51-46c1-bd8c-017696d767a6",
   "metadata": {},
   "source": [
    "From reddit, for readability:\n",
    "\n",
    "> Epic CollapsePorn Timeline to 2070\n",
    "<br>The prophetic words of the German climatologist Hans Joachim Schellnhuber in 2018 were smudged on the whiteboard: “Climate change is now reaching the endgame, where very soon humanity must choose between taking unprecedented action, or accepting that it has been left too late and bear the consequences” . Fifty years on, those consequences were etched all over Earth’s surface, as a small group of historians and scientists gathered in an annex of Greenland’s Nuuk Art Museum, 240 kilometers south of the Arctic Circle, to understand the course of events since those words were written.\n",
    "<br>2020 Living in a hotter world was all about food and water security – and dislocation and war. Syria should have been a warning, a preview of collapse.\n",
    "<br>In 2010, the world’s top nine importers of wheat, per capita, had been Middle Eastern and North African nations. When extreme fires in Russia and a “once-in-a-century” winter drought in China devastated wheat crops, the global price for the grain, and bread prices in the Middle East, spiked. In some cases they tripled, and food riots became a trigger for the Arab Spring uprisings in seven of those nine wheat-importing states.\n",
    "<br>..."
   ]
  },
  {
   "cell_type": "code",
   "execution_count": 42,
   "id": "2e26d635-cf06-48d2-b643-7141b68a9281",
   "metadata": {},
   "outputs": [
    {
     "data": {
      "text/html": [
       "<div>\n",
       "<style scoped>\n",
       "    .dataframe tbody tr th:only-of-type {\n",
       "        vertical-align: middle;\n",
       "    }\n",
       "\n",
       "    .dataframe tbody tr th {\n",
       "        vertical-align: top;\n",
       "    }\n",
       "\n",
       "    .dataframe thead th {\n",
       "        text-align: right;\n",
       "    }\n",
       "</style>\n",
       "<table border=\"1\" class=\"dataframe\">\n",
       "  <thead>\n",
       "    <tr style=\"text-align: right;\">\n",
       "      <th></th>\n",
       "      <th>is_collapse</th>\n",
       "      <th>predictions</th>\n",
       "      <th>prob_is_collapse</th>\n",
       "      <th>clean_text</th>\n",
       "    </tr>\n",
       "  </thead>\n",
       "  <tbody>\n",
       "    <tr>\n",
       "      <th>36086</th>\n",
       "      <td>0</td>\n",
       "      <td>0</td>\n",
       "      <td>0.000031</td>\n",
       "      <td>the future is the here and now only more so</td>\n",
       "    </tr>\n",
       "    <tr>\n",
       "      <th>29291</th>\n",
       "      <td>0</td>\n",
       "      <td>0</td>\n",
       "      <td>0.000031</td>\n",
       "      <td>back to the future</td>\n",
       "    </tr>\n",
       "    <tr>\n",
       "      <th>23026</th>\n",
       "      <td>0</td>\n",
       "      <td>0</td>\n",
       "      <td>0.000031</td>\n",
       "      <td>future future future future future future</td>\n",
       "    </tr>\n",
       "    <tr>\n",
       "      <th>26753</th>\n",
       "      <td>0</td>\n",
       "      <td>0</td>\n",
       "      <td>0.000031</td>\n",
       "      <td>what is the future</td>\n",
       "    </tr>\n",
       "    <tr>\n",
       "      <th>37225</th>\n",
       "      <td>0</td>\n",
       "      <td>0</td>\n",
       "      <td>0.000099</td>\n",
       "      <td>in the future there will be robots</td>\n",
       "    </tr>\n",
       "    <tr>\n",
       "      <th>34431</th>\n",
       "      <td>0</td>\n",
       "      <td>0</td>\n",
       "      <td>0.000150</td>\n",
       "      <td>i can t wait for the future to get here who is...</td>\n",
       "    </tr>\n",
       "    <tr>\n",
       "      <th>23399</th>\n",
       "      <td>0</td>\n",
       "      <td>0</td>\n",
       "      <td>0.000179</td>\n",
       "      <td>how ai powered devices are remodeling the cons...</td>\n",
       "    </tr>\n",
       "    <tr>\n",
       "      <th>32135</th>\n",
       "      <td>0</td>\n",
       "      <td>0</td>\n",
       "      <td>0.000250</td>\n",
       "      <td>do you have time to think about technology amp...</td>\n",
       "    </tr>\n",
       "    <tr>\n",
       "      <th>23662</th>\n",
       "      <td>0</td>\n",
       "      <td>0</td>\n",
       "      <td>0.000257</td>\n",
       "      <td>top ai in ces for the future i will discuss ab...</td>\n",
       "    </tr>\n",
       "    <tr>\n",
       "      <th>32361</th>\n",
       "      <td>0</td>\n",
       "      <td>0</td>\n",
       "      <td>0.000262</td>\n",
       "      <td>which technological inventions besides ai and ...</td>\n",
       "    </tr>\n",
       "  </tbody>\n",
       "</table>\n",
       "</div>"
      ],
      "text/plain": [
       "       is_collapse  predictions  prob_is_collapse  \\\n",
       "36086            0            0          0.000031   \n",
       "29291            0            0          0.000031   \n",
       "23026            0            0          0.000031   \n",
       "26753            0            0          0.000031   \n",
       "37225            0            0          0.000099   \n",
       "34431            0            0          0.000150   \n",
       "23399            0            0          0.000179   \n",
       "32135            0            0          0.000250   \n",
       "23662            0            0          0.000257   \n",
       "32361            0            0          0.000262   \n",
       "\n",
       "                                              clean_text  \n",
       "36086       the future is the here and now only more so   \n",
       "29291                                back to the future   \n",
       "23026          future future future future future future  \n",
       "26753                                what is the future   \n",
       "37225                in the future there will be robots   \n",
       "34431  i can t wait for the future to get here who is...  \n",
       "23399  how ai powered devices are remodeling the cons...  \n",
       "32135  do you have time to think about technology amp...  \n",
       "23662  top ai in ces for the future i will discuss ab...  \n",
       "32361  which technological inventions besides ai and ...  "
      ]
     },
     "execution_count": 42,
     "metadata": {},
     "output_type": "execute_result"
    }
   ],
   "source": [
    "#posts with the highest probability of being r/futurology\n",
    "#all of them are correctly predicted\n",
    "pred_df.tail(10)[::-1]"
   ]
  },
  {
   "cell_type": "code",
   "execution_count": 43,
   "id": "9be5e9e8-513b-4206-bbf7-68fe2a7d809e",
   "metadata": {},
   "outputs": [
    {
     "data": {
      "text/plain": [
       "'which technological inventions besides ai and self driving vehicles going to be well established in the future what do you think'"
      ]
     },
     "execution_count": 43,
     "metadata": {},
     "output_type": "execute_result"
    }
   ],
   "source": [
    "#highest correlation to r/futurology\n",
    "pred_df.loc[32361, 'clean_text'][:1000]\n",
    "\n",
    "#suprisingly, it happens to be a pretty short post already\n",
    "#but it uses 'technological', 'ai', and 'future' which are three of \n",
    "#the top tokens in r/futurology"
   ]
  },
  {
   "cell_type": "markdown",
   "id": "a5d77a25-1132-4953-b985-93f1a86fbb09",
   "metadata": {},
   "source": [
    "From reddit, for readbility:\n",
    "> Which technological inventions besides AI and self-driving vehicles going to be well established in the future?\n",
    "<br>What do you think?"
   ]
  },
  {
   "cell_type": "code",
   "execution_count": 44,
   "id": "aafff5bd-a5af-47e9-8393-93c2058d08a5",
   "metadata": {},
   "outputs": [
    {
     "data": {
      "text/html": [
       "<div>\n",
       "<style scoped>\n",
       "    .dataframe tbody tr th:only-of-type {\n",
       "        vertical-align: middle;\n",
       "    }\n",
       "\n",
       "    .dataframe tbody tr th {\n",
       "        vertical-align: top;\n",
       "    }\n",
       "\n",
       "    .dataframe thead th {\n",
       "        text-align: right;\n",
       "    }\n",
       "</style>\n",
       "<table border=\"1\" class=\"dataframe\">\n",
       "  <thead>\n",
       "    <tr style=\"text-align: right;\">\n",
       "      <th></th>\n",
       "      <th>is_collapse</th>\n",
       "      <th>predictions</th>\n",
       "      <th>prob_is_collapse</th>\n",
       "      <th>clean_text</th>\n",
       "    </tr>\n",
       "  </thead>\n",
       "  <tbody>\n",
       "    <tr>\n",
       "      <th>10935</th>\n",
       "      <td>1</td>\n",
       "      <td>1</td>\n",
       "      <td>0.500874</td>\n",
       "      <td>apr to june gfs temp abnormalities model apr t...</td>\n",
       "    </tr>\n",
       "    <tr>\n",
       "      <th>3195</th>\n",
       "      <td>1</td>\n",
       "      <td>1</td>\n",
       "      <td>0.500644</td>\n",
       "      <td>in fiction star wars how successful was the g...</td>\n",
       "    </tr>\n",
       "    <tr>\n",
       "      <th>11022</th>\n",
       "      <td>1</td>\n",
       "      <td>1</td>\n",
       "      <td>0.500596</td>\n",
       "      <td>look at all the dystopian timelines we re gett...</td>\n",
       "    </tr>\n",
       "    <tr>\n",
       "      <th>38839</th>\n",
       "      <td>0</td>\n",
       "      <td>1</td>\n",
       "      <td>0.500531</td>\n",
       "      <td>is there precedent or law already laid down co...</td>\n",
       "    </tr>\n",
       "    <tr>\n",
       "      <th>14041</th>\n",
       "      <td>1</td>\n",
       "      <td>1</td>\n",
       "      <td>0.500025</td>\n",
       "      <td>meta are colllapse mods retarded</td>\n",
       "    </tr>\n",
       "    <tr>\n",
       "      <th>4409</th>\n",
       "      <td>1</td>\n",
       "      <td>0</td>\n",
       "      <td>0.499902</td>\n",
       "      <td>would hawaii sit out a hypothetical civil war ...</td>\n",
       "    </tr>\n",
       "    <tr>\n",
       "      <th>7527</th>\n",
       "      <td>1</td>\n",
       "      <td>0</td>\n",
       "      <td>0.499865</td>\n",
       "      <td>can t visualize the future i am currently appl...</td>\n",
       "    </tr>\n",
       "    <tr>\n",
       "      <th>21738</th>\n",
       "      <td>0</td>\n",
       "      <td>0</td>\n",
       "      <td>0.499685</td>\n",
       "      <td>herpes diagnose being diagnosed with herpes is...</td>\n",
       "    </tr>\n",
       "    <tr>\n",
       "      <th>28954</th>\n",
       "      <td>0</td>\n",
       "      <td>0</td>\n",
       "      <td>0.499670</td>\n",
       "      <td>considerations towards m a d tesla s faraday c...</td>\n",
       "    </tr>\n",
       "    <tr>\n",
       "      <th>10408</th>\n",
       "      <td>1</td>\n",
       "      <td>0</td>\n",
       "      <td>0.499231</td>\n",
       "      <td>lifeboat ethics in the anthropocene</td>\n",
       "    </tr>\n",
       "  </tbody>\n",
       "</table>\n",
       "</div>"
      ],
      "text/plain": [
       "       is_collapse  predictions  prob_is_collapse  \\\n",
       "10935            1            1          0.500874   \n",
       "3195             1            1          0.500644   \n",
       "11022            1            1          0.500596   \n",
       "38839            0            1          0.500531   \n",
       "14041            1            1          0.500025   \n",
       "4409             1            0          0.499902   \n",
       "7527             1            0          0.499865   \n",
       "21738            0            0          0.499685   \n",
       "28954            0            0          0.499670   \n",
       "10408            1            0          0.499231   \n",
       "\n",
       "                                              clean_text  \n",
       "10935  apr to june gfs temp abnormalities model apr t...  \n",
       "3195    in fiction star wars how successful was the g...  \n",
       "11022  look at all the dystopian timelines we re gett...  \n",
       "38839  is there precedent or law already laid down co...  \n",
       "14041                  meta are colllapse mods retarded   \n",
       "4409   would hawaii sit out a hypothetical civil war ...  \n",
       "7527   can t visualize the future i am currently appl...  \n",
       "21738  herpes diagnose being diagnosed with herpes is...  \n",
       "28954  considerations towards m a d tesla s faraday c...  \n",
       "10408               lifeboat ethics in the anthropocene   "
      ]
     },
     "execution_count": 44,
     "metadata": {},
     "output_type": "execute_result"
    }
   ],
   "source": [
    "#10 posts hardest to predict - close to 50% probabilty\n",
    "#6 of these were correct, 4 were correct\n",
    "pred_df[(pred_df.prob_is_collapse > 0.4992) & (pred_df.prob_is_collapse < 0.5009)]"
   ]
  },
  {
   "cell_type": "code",
   "execution_count": 45,
   "id": "d2d20eaa-5e5c-45b7-80d8-7e4d423c2d38",
   "metadata": {},
   "outputs": [
    {
     "data": {
      "text/plain": [
       "'is there precedent or law already laid down concerning the joining of nations into new territories nations states could the usa and canada become canadamerica americanada i was watching continuum and realized that i had no idea about international law concerning the creation of new nations between current ones not necessarily ca and us but a number between some and all of the world s nation states will reform and or combine at some point in the future'"
      ]
     },
     "execution_count": 45,
     "metadata": {},
     "output_type": "execute_result"
    }
   ],
   "source": [
    "#misclassified posts:\n",
    "pred_df.loc[38839, 'clean_text']\n",
    "#this post doesn't seem to touch on any of the common features \n",
    "#in either subreddit: 'climate change', 'ai', 'extinction', 'robot',\n",
    "#so since it's a very different topic, it would've been harder to predict.\n",
    "#this post was actually r/futurology, but the model predicted it was r/collapse"
   ]
  },
  {
   "cell_type": "markdown",
   "id": "6a12d338-7982-4719-94a0-7a5dba1b30e1",
   "metadata": {},
   "source": [
    "From reddit:\n",
    "> Is there precedent or law already laid down concerning the joining of nations into new territories/nations/states? Could the USA and Canada become Canadamerica/Americanada?\n",
    "<br>I was watching Continuum and realized that I had no idea about international law concerning the creation of new nations between current ones. Not necessarily CA and US, but a number between some and all of the world's nation states will reform and/or combine at some point in the future."
   ]
  },
  {
   "cell_type": "code",
   "execution_count": 46,
   "id": "b8804ffd-13c4-4aa2-aee1-2552f08aa0dc",
   "metadata": {},
   "outputs": [
    {
     "data": {
      "text/plain": [
       "'would hawaii sit out a hypothetical civil war since it s pretty far from the mainland'"
      ]
     },
     "execution_count": 46,
     "metadata": {},
     "output_type": "execute_result"
    }
   ],
   "source": [
    "pred_df.loc[4409, 'clean_text']\n",
    "#again, this post doesn't cover any of the topics which show up in the important tokens\n",
    "#it's also pretty short, so it doesn't have much info to share with the model\n",
    "#however, this shows a limitation of our model: \n",
    "#'hypothetical civil war' stands out to me as a r/collapse topic, \n",
    "#but the model predicted this one as r/futurology because we only used one-word ngrams"
   ]
  },
  {
   "cell_type": "markdown",
   "id": "2d2e0078-4c31-44ce-adc7-62c2d1c449e7",
   "metadata": {},
   "source": [
    "From reddit:\n",
    "> Would Hawaii sit out a hypothetical civil war?\n",
    "<br>Since it's pretty far from the mainland..."
   ]
  },
  {
   "cell_type": "code",
   "execution_count": 47,
   "id": "7b3466b8-0063-4200-8d44-033fbc18f797",
   "metadata": {},
   "outputs": [
    {
     "data": {
      "text/plain": [
       "'can t visualize the future i am currently applying to college in recent years i have grown incredibly despondent about climate change and what i see as the inevitable downfall of the world as we know it however in the short term i still need to go to college which means writing essays about what i want to do in the future i usually end up in tears because when i was younger i wanted to start a family and live to old age but now i genuinely am unable to imagine myself past the age of maybe it s terrifying to me that at the time of my life when i ll be qualified to help with the climate it might be too late'"
      ]
     },
     "execution_count": 47,
     "metadata": {},
     "output_type": "execute_result"
    }
   ],
   "source": [
    "pred_df.loc[7527, 'clean_text']\n",
    "#it is surprising that this post was misclassified.\n",
    "#it talks about 'climate change' and 'inevitable downfall' and 'terrifying'\n",
    "#but it also mentions 'the future' a couples and that could be why the model\n",
    "#incorrectly classified it as r/futurology"
   ]
  },
  {
   "cell_type": "markdown",
   "id": "45091688-780b-45ed-9942-70b9c0c4d734",
   "metadata": {},
   "source": [
    "From reddit:\n",
    "> Can't visualize the future.\n",
    "<br>I am currently applying to college. In recent years I have grown incredibly despondent about climate change and what I see as the inevitable downfall of the world as we know it. However, in the short term, I still need to go to college, which means writing essays about what I want to do in the future. I usually end up in tears because when I was younger I wanted to start a family and live to old age but now I genuinely am unable to imagine myself past the age of maybe 30? It's terrifying to me that at the time of my life when I'll be qualified to help with the climate, it might be too late."
   ]
  },
  {
   "cell_type": "code",
   "execution_count": 48,
   "id": "24b7a1e3-f955-42a8-b842-25184b9e7599",
   "metadata": {},
   "outputs": [
    {
     "data": {
      "text/plain": [
       "'lifeboat ethics in the anthropocene '"
      ]
     },
     "execution_count": 48,
     "metadata": {},
     "output_type": "execute_result"
    }
   ],
   "source": [
    "pred_df.loc[10408, 'clean_text']\n",
    "#this post is too short for the model to successfully predict it\n",
    "#as a human, i wouldn't be able to guess which reddit it's from either"
   ]
  },
  {
   "cell_type": "markdown",
   "id": "5878752c-c6bf-45e8-a7b5-829eeb069f98",
   "metadata": {},
   "source": [
    "From reddit:\n",
    "> LIFEBOAT ETHICS In The Anthropocene"
   ]
  }
 ],
 "metadata": {
  "kernelspec": {
   "display_name": "Python 3 (ipykernel)",
   "language": "python",
   "name": "python3"
  },
  "language_info": {
   "codemirror_mode": {
    "name": "ipython",
    "version": 3
   },
   "file_extension": ".py",
   "mimetype": "text/x-python",
   "name": "python",
   "nbconvert_exporter": "python",
   "pygments_lexer": "ipython3",
   "version": "3.9.13"
  }
 },
 "nbformat": 4,
 "nbformat_minor": 5
}
